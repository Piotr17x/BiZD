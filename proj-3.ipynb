{
  "nbformat": 4,
  "nbformat_minor": 0,
  "metadata": {
    "colab": {
      "provenance": []
    },
    "kernelspec": {
      "name": "python3",
      "display_name": "Python 3"
    },
    "language_info": {
      "name": "python"
    }
  },
  "cells": [
    {
      "cell_type": "code",
      "execution_count": null,
      "metadata": {
        "colab": {
          "base_uri": "https://localhost:8080/"
        },
        "id": "Y_0AHnnu1U-i",
        "outputId": "0e7abfae-f6bd-4c1e-ea5f-82cfb78eb045"
      },
      "outputs": [
        {
          "output_type": "stream",
          "name": "stdout",
          "text": [
            "Collecting oracledb\n",
            "  Downloading oracledb-1.4.2-cp310-cp310-manylinux_2_17_x86_64.manylinux2014_x86_64.whl (8.6 MB)\n",
            "\u001b[2K     \u001b[90m━━━━━━━━━━━━━━━━━━━━━━━━━━━━━━━━━━━━━━━━\u001b[0m \u001b[32m8.6/8.6 MB\u001b[0m \u001b[31m22.8 MB/s\u001b[0m eta \u001b[36m0:00:00\u001b[0m\n",
            "\u001b[?25hRequirement already satisfied: cryptography>=3.2.1 in /usr/local/lib/python3.10/dist-packages (from oracledb) (41.0.7)\n",
            "Requirement already satisfied: cffi>=1.12 in /usr/local/lib/python3.10/dist-packages (from cryptography>=3.2.1->oracledb) (1.16.0)\n",
            "Requirement already satisfied: pycparser in /usr/local/lib/python3.10/dist-packages (from cffi>=1.12->cryptography>=3.2.1->oracledb) (2.21)\n",
            "Installing collected packages: oracledb\n",
            "Successfully installed oracledb-1.4.2\n"
          ]
        }
      ],
      "source": [
        "pip install oracledb"
      ]
    },
    {
      "cell_type": "code",
      "source": [
        "import oracledb\n",
        "import matplotlib.pyplot as plt\n",
        "import pandas as pd\n",
        "import numpy as np\n",
        "import warnings\n",
        "import config\n",
        "\n",
        "\n",
        "warnings.filterwarnings(\"ignore\", category=UserWarning)\n",
        "\n",
        "connection = oracledb.connect(user=config.user, password=config.password,\n",
        "                              dsn=config.dsn)\n",
        "cursor = connection.cursor()"
      ],
      "metadata": {
        "id": "GtbPk2Cz1dI0"
      },
      "execution_count": null,
      "outputs": []
    },
    {
      "cell_type": "code",
      "source": [
        "# create table stat_opis (\n",
        "# parameter_id varchar(50) primary Key,\n",
        "# max_atk number,\n",
        "# min_atk number,\n",
        "# mean_atk number,\n",
        "# mediana_atk number,\n",
        "# std_atk number,\n",
        "# max_move number,\n",
        "# min_move number,\n",
        "# mean_move number,\n",
        "# mediana_move number,\n",
        "# std_move number,\n",
        "# turn_avg number\n",
        "# );"
      ],
      "metadata": {
        "id": "zLDEFCtyPvqG"
      },
      "execution_count": null,
      "outputs": []
    },
    {
      "cell_type": "code",
      "source": [
        "df = pd.read_sql('select * from performances', connection)\n",
        "df_sim = pd.read_sql('select * from simulations', connection)"
      ],
      "metadata": {
        "id": "iNKswpBa1gnL"
      },
      "execution_count": null,
      "outputs": []
    },
    {
      "cell_type": "code",
      "source": [
        "sql_command = \"INSERT INTO stat_opis VALUES (:1, :2, :3, :4, :5, :6, :7, :8, :9, :10, :11, :12)\""
      ],
      "metadata": {
        "id": "ysTY-rvjQNst"
      },
      "execution_count": null,
      "outputs": []
    },
    {
      "cell_type": "code",
      "source": [
        "cursor.execute('DELETE FROM stat_opis')\n",
        "for x in df.PARAMETER_ID.unique():\n",
        "  df_p = df[df.PARAMETER_ID==x]\n",
        "  df_sim_p = df_sim[(df_sim['RED_PLAYER']==x) | (df_sim['BLUE_PLAYER']==x)]\n",
        "  data = (\n",
        "      x,\n",
        "      int(df_p.ATK_CNT.max()),\n",
        "      int(df_p.ATK_CNT.min()),\n",
        "      df_p.ATK_CNT.mean(),\n",
        "      int(df_p.ATK_CNT.median()),\n",
        "      df_p.ATK_CNT.std(),\n",
        "      int(df_p.MOVE_CNT.max()),\n",
        "      int(df_p.MOVE_CNT.min()),\n",
        "      df_p.MOVE_CNT.mean(),\n",
        "      int(df_p.MOVE_CNT.median()),\n",
        "      df_p.MOVE_CNT.std(),\n",
        "      df_sim_p.TURN_CNT.mean()\n",
        "  )\n",
        "  cursor.execute(sql_command, data)\n",
        "connection.commit()"
      ],
      "metadata": {
        "id": "5CLw22pC3R6v"
      },
      "execution_count": null,
      "outputs": []
    }
  ]
}
