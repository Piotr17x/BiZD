{
  "nbformat": 4,
  "nbformat_minor": 0,
  "metadata": {
    "colab": {
      "provenance": []
    },
    "kernelspec": {
      "name": "python3",
      "display_name": "Python 3"
    },
    "language_info": {
      "name": "python"
    }
  },
  "cells": [
    {
      "cell_type": "code",
      "execution_count": 2,
      "metadata": {
        "colab": {
          "base_uri": "https://localhost:8080/"
        },
        "id": "Y_0AHnnu1U-i",
        "outputId": "1eb70428-734c-4ca4-b175-607d989b8a2b"
      },
      "outputs": [
        {
          "output_type": "stream",
          "name": "stdout",
          "text": [
            "Collecting oracledb\n",
            "  Downloading oracledb-1.4.2-cp310-cp310-manylinux_2_17_x86_64.manylinux2014_x86_64.whl (8.6 MB)\n",
            "\u001b[2K     \u001b[90m━━━━━━━━━━━━━━━━━━━━━━━━━━━━━━━━━━━━━━━━\u001b[0m \u001b[32m8.6/8.6 MB\u001b[0m \u001b[31m28.2 MB/s\u001b[0m eta \u001b[36m0:00:00\u001b[0m\n",
            "\u001b[?25hRequirement already satisfied: cryptography>=3.2.1 in /usr/local/lib/python3.10/dist-packages (from oracledb) (41.0.7)\n",
            "Requirement already satisfied: cffi>=1.12 in /usr/local/lib/python3.10/dist-packages (from cryptography>=3.2.1->oracledb) (1.16.0)\n",
            "Requirement already satisfied: pycparser in /usr/local/lib/python3.10/dist-packages (from cffi>=1.12->cryptography>=3.2.1->oracledb) (2.21)\n",
            "Installing collected packages: oracledb\n",
            "Successfully installed oracledb-1.4.2\n"
          ]
        }
      ],
      "source": [
        "pip install oracledb"
      ]
    },
    {
      "cell_type": "code",
      "source": [
        "import oracledb\n",
        "import matplotlib.pyplot as plt\n",
        "import pandas as pd\n",
        "import numpy as np\n",
        "import warnings\n",
        "import config\n",
        "import scipy.stats as sps\n",
        "\n",
        "\n",
        "warnings.filterwarnings(\"ignore\", category=UserWarning)\n",
        "\n",
        "connection = oracledb.connect(user=config.user, password=config.password,\n",
        "                              dsn=config.dsn)\n",
        "cursor = connection.cursor()"
      ],
      "metadata": {
        "id": "GtbPk2Cz1dI0"
      },
      "execution_count": 3,
      "outputs": []
    },
    {
      "cell_type": "code",
      "source": [
        "df_perf = pd.read_sql('select * from performances', connection)\n",
        "df_param = pd.read_sql('select * from parameters', connection)\n",
        "df_sim = pd.read_sql('select * from simulations', connection)"
      ],
      "metadata": {
        "id": "iNKswpBa1gnL"
      },
      "execution_count": 19,
      "outputs": []
    },
    {
      "cell_type": "code",
      "source": [
        "df_param['E_GREEDY'] = df_param['E_GREEDY'].fillna(0)\n",
        "df_param['C'] = df_param['C'].fillna(0)\n",
        "df = pd.merge(df_param, df_perf, on=\"PARAMETER_ID\")\n",
        "df = pd.merge(df, df_sim, on=\"SIM_ID\")\n",
        "df['AGR_COEFF'] = df.apply(lambda x: x['ATK_CNT'] / x['MOVE_CNT'], axis=1)\n",
        "df['OUTCOME'] = df.apply(lambda x: 'win' if x['PARAMETER_ID']==x['OUTCOME'] else 'draw' if x['OUTCOME']=='draw' else 'lose', axis=1)\n",
        "df_mcts = df[df['ALGORITHM_ID']=='MCTS']\n",
        "df_dlmc = df[df['ALGORITHM_ID']=='DLMC']\n",
        "df_mcts = df_mcts.drop(['PARAMETER_ID','PERFORMANCE_ID','ALGORITHM_ID', 'PLAYOUT_NUMBER', 'SIM_ID', 'RED_PLAYER', 'BLUE_PLAYER', 'TURN_TIME'], axis= 1)\n",
        "df_dlmc = df_dlmc.drop(['PARAMETER_ID','PERFORMANCE_ID','ALGORITHM_ID', 'SIM_ID', 'OUTCOME', 'RED_PLAYER', 'BLUE_PLAYER', 'TURN_TIME'], axis= 1)\n",
        "df_mcts_dl = df_mcts[df_mcts['SIM_DEPTH'].isna() == False]\n",
        "df_mcts_ndl = df_mcts[df_mcts['SIM_DEPTH'].isna()].drop(['SIM_DEPTH', 'OUTCOME'], axis=1)\n",
        "print(f'dlmc: {len(df_dlmc.index)}\\nmcts_dl: {len(df_mcts_dl.index)}\\nmcts_ndl: {len(df_mcts_ndl.index)}')"
      ],
      "metadata": {
        "colab": {
          "base_uri": "https://localhost:8080/"
        },
        "id": "6gdmrD5cxRbz",
        "outputId": "a2785c89-556c-48bb-c20d-786e527e76e2"
      },
      "execution_count": 158,
      "outputs": [
        {
          "output_type": "stream",
          "name": "stdout",
          "text": [
            "dlmc: 3592\n",
            "mcts_dl: 4702\n",
            "mcts_ndl: 11006\n"
          ]
        }
      ]
    },
    {
      "cell_type": "code",
      "source": [
        "from sklearn.model_selection import train_test_split\n",
        "from sklearn.linear_model import LinearRegression, LogisticRegression\n",
        "from sklearn.metrics import mean_squared_error, mean_absolute_error\n",
        "from sklearn.preprocessing import PolynomialFeatures"
      ],
      "metadata": {
        "id": "uYl-tGr98B6u"
      },
      "execution_count": 80,
      "outputs": []
    },
    {
      "cell_type": "code",
      "source": [
        "X = df_dlmc['C'].values\n",
        "y = df_dlmc['AGR_COEFF']\n",
        "X_train, X_test, y_train, y_test = train_test_split(\n",
        "    X, y, test_size=0.3, random_state=101)\n",
        "model = LinearRegression()\n",
        "model.fit(X_train.reshape(-1, 1),y_train)\n",
        "predictions = model.predict(X_test.reshape(-1, 1))\n",
        "\n",
        "print('mean_squared_error : ', mean_squared_error(y_test, predictions))\n",
        "print('mean_absolute_error : ', mean_absolute_error(y_test, predictions))\n",
        "# model.predict([[0.8]])"
      ],
      "metadata": {
        "colab": {
          "base_uri": "https://localhost:8080/"
        },
        "id": "gWCvd4Z5mAdc",
        "outputId": "d4d89f0b-dbbd-4255-bf8e-4fd4cfbe2737"
      },
      "execution_count": 156,
      "outputs": [
        {
          "output_type": "stream",
          "name": "stdout",
          "text": [
            "mean_squared_error :  0.047130620435496345\n",
            "mean_absolute_error :  0.1542325947587164\n"
          ]
        }
      ]
    },
    {
      "cell_type": "code",
      "source": [
        "X = df_mcts_ndl.drop(['TURN_CNT'],axis= 1)\n",
        "y = df_mcts_ndl['TURN_CNT']\n",
        "X_train, X_test, y_train, y_test = train_test_split(\n",
        "    X, y, test_size=0.3, random_state=101)\n",
        "model = LinearRegression()\n",
        "model.fit(X_train,y_train)\n",
        "predictions = model.predict(X_test)\n",
        "\n",
        "print('mean_squared_error : ', mean_squared_error(y_test, predictions))\n",
        "print('mean_absolute_error : ', mean_absolute_error(y_test, predictions))\n",
        "# model.predict([X_test.iloc[1]])"
      ],
      "metadata": {
        "colab": {
          "base_uri": "https://localhost:8080/"
        },
        "id": "DBO-0zul-jDK",
        "outputId": "01d8ca88-6ca4-499f-98f9-0f92c8dad05f"
      },
      "execution_count": 157,
      "outputs": [
        {
          "output_type": "stream",
          "name": "stdout",
          "text": [
            "mean_squared_error :  12.187928328641453\n",
            "mean_absolute_error :  2.7590063090947523\n"
          ]
        }
      ]
    },
    {
      "cell_type": "code",
      "source": [
        "X = df_mcts_dl.drop(['OUTCOME'],axis= 1)\n",
        "y = df_mcts_dl['OUTCOME']\n",
        "X_train, X_test, y_train, y_test = train_test_split(\n",
        "    X, y, test_size=0.3, random_state=101)\n",
        "model = LogisticRegression()\n",
        "model.fit(X_train,y_train)\n",
        "f'acc: {model.score(X_test, y_test)}'\n",
        "# model.predict([X_test.iloc[0]])"
      ],
      "metadata": {
        "colab": {
          "base_uri": "https://localhost:8080/",
          "height": 35
        },
        "id": "jpxtB9Ux-wpK",
        "outputId": "72cc6ef0-1c19-428a-f05d-77eff0332b65"
      },
      "execution_count": 133,
      "outputs": [
        {
          "output_type": "execute_result",
          "data": {
            "text/plain": [
              "'acc: 0.9355067328136074'"
            ],
            "application/vnd.google.colaboratory.intrinsic+json": {
              "type": "string"
            }
          },
          "metadata": {},
          "execution_count": 133
        }
      ]
    },
    {
      "cell_type": "code",
      "source": [
        "X = df_dlmc['C'].values\n",
        "y = df_dlmc['AGR_COEFF']\n",
        "X_train, X_test, y_train, y_test = train_test_split(\n",
        "    X, y, test_size=0.3, random_state=101)\n",
        "pr = PolynomialFeatures(degree = 4)\n",
        "lr_2 = LinearRegression()\n",
        "lr_2.fit(pr.fit_transform(X_train.reshape(-1, 1)), y_train)\n",
        "predictions = lr_2.predict(pr.fit_transform(X_test.reshape(-1, 1)))\n",
        "\n",
        "print('mean_squared_error : ', mean_squared_error(y_test, predictions))\n",
        "print('mean_absolute_error : ', mean_absolute_error(y_test, predictions))\n",
        "# lr_2.predict(pr.fit_transform([[0.8]]))"
      ],
      "metadata": {
        "colab": {
          "base_uri": "https://localhost:8080/"
        },
        "id": "Yfuyqa8BCr28",
        "outputId": "2431a4f6-a345-489b-b813-3d724a919854"
      },
      "execution_count": 146,
      "outputs": [
        {
          "output_type": "stream",
          "name": "stdout",
          "text": [
            "mean_squared_error :  0.04716492278724634\n",
            "mean_absolute_error :  0.1541866528406332\n"
          ]
        }
      ]
    }
  ]
}