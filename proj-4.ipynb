{
  "nbformat": 4,
  "nbformat_minor": 0,
  "metadata": {
    "colab": {
      "provenance": []
    },
    "kernelspec": {
      "name": "python3",
      "display_name": "Python 3"
    },
    "language_info": {
      "name": "python"
    }
  },
  "cells": [
    {
      "cell_type": "code",
      "execution_count": 1,
      "metadata": {
        "colab": {
          "base_uri": "https://localhost:8080/"
        },
        "id": "Y_0AHnnu1U-i",
        "outputId": "9ca9be7a-9e70-44a2-9ea8-6a3f358258d3"
      },
      "outputs": [
        {
          "output_type": "stream",
          "name": "stdout",
          "text": [
            "Collecting oracledb\n",
            "  Downloading oracledb-1.4.2-cp310-cp310-manylinux_2_17_x86_64.manylinux2014_x86_64.whl (8.6 MB)\n",
            "\u001b[2K     \u001b[90m━━━━━━━━━━━━━━━━━━━━━━━━━━━━━━━━━━━━━━━━\u001b[0m \u001b[32m8.6/8.6 MB\u001b[0m \u001b[31m18.7 MB/s\u001b[0m eta \u001b[36m0:00:00\u001b[0m\n",
            "\u001b[?25hRequirement already satisfied: cryptography>=3.2.1 in /usr/local/lib/python3.10/dist-packages (from oracledb) (41.0.7)\n",
            "Requirement already satisfied: cffi>=1.12 in /usr/local/lib/python3.10/dist-packages (from cryptography>=3.2.1->oracledb) (1.16.0)\n",
            "Requirement already satisfied: pycparser in /usr/local/lib/python3.10/dist-packages (from cffi>=1.12->cryptography>=3.2.1->oracledb) (2.21)\n",
            "Installing collected packages: oracledb\n",
            "Successfully installed oracledb-1.4.2\n"
          ]
        }
      ],
      "source": [
        "pip install oracledb"
      ]
    },
    {
      "cell_type": "code",
      "source": [
        "import oracledb\n",
        "import matplotlib.pyplot as plt\n",
        "import pandas as pd\n",
        "import numpy as np\n",
        "import warnings\n",
        "import config\n",
        "import scipy.stats as sps\n",
        "\n",
        "\n",
        "warnings.filterwarnings(\"ignore\", category=UserWarning)\n",
        "\n",
        "connection = oracledb.connect(user=config.user, password=config.password,\n",
        "                              dsn=config.dsn)\n",
        "cursor = connection.cursor()"
      ],
      "metadata": {
        "id": "GtbPk2Cz1dI0"
      },
      "execution_count": 3,
      "outputs": []
    },
    {
      "cell_type": "code",
      "source": [
        "df = pd.read_sql('select * from performances', connection)"
      ],
      "metadata": {
        "id": "iNKswpBa1gnL"
      },
      "execution_count": 15,
      "outputs": []
    },
    {
      "cell_type": "code",
      "source": [
        "print('normalność rozkładu')\n",
        "print(f\"ATK_CNT {sps.normaltest(df['ATK_CNT']).pvalue:.3f}\")\n",
        "print(f\"REM_HP {sps.normaltest(df['REM_HP']).pvalue:.3f}\")\n",
        "print(f\"ATK_CNT_FIRST5 {sps.normaltest(df['ATK_CNT_FIRST5']).pvalue:.3f}\")\n",
        "print(f\"MCTS_2_0_n_1,41 ATK_CNT {sps.normaltest(df[df['PARAMETER_ID']=='MCTS_2_0_n_1,41']['ATK_CNT']).pvalue:.3f}\")\n",
        "print(f\"MCTS_2_0_n_1,41 REM_HP {sps.normaltest(df[df['PARAMETER_ID']=='MCTS_2_0_n_1,41']['REM_HP']).pvalue:.3f}\")\n",
        "print(f\"MCTS_2_0_n_1,41 ATK_CNT_FIRST5 {sps.normaltest(df[df['PARAMETER_ID']=='MCTS_2_0_n_1,41']['ATK_CNT_FIRST5']).pvalue:.3f}\")"
      ],
      "metadata": {
        "id": "5CLw22pC3R6v",
        "colab": {
          "base_uri": "https://localhost:8080/"
        },
        "outputId": "d164d609-77d9-4f95-b3e4-e055a0a30242"
      },
      "execution_count": 6,
      "outputs": [
        {
          "output_type": "stream",
          "name": "stdout",
          "text": [
            "normalność rozkładu\n",
            "ATK_CNT 0.000\n",
            "REM_HP 0.000\n",
            "ATK_CNT_FIRST5 0.000\n",
            "MCTS_2_0_n_1,41 ATK_CNT 0.000\n",
            "MCTS_2_0_n_1,41 REM_HP 0.000\n",
            "MCTS_2_0_n_1,41 ATK_CNT_FIRST5 0.000\n"
          ]
        }
      ]
    },
    {
      "cell_type": "code",
      "source": [
        "print('rowność wariancji')\n",
        "results = sps.levene(df[df['PARAMETER_ID']=='MCTS_2_0_n_1,41']['ATK_CNT'], df[df['PARAMETER_ID']=='MCTS_2_0_2_1,41']['ATK_CNT'])\n",
        "print(f'DL, n - 2, ATK_CNT: {results.pvalue:.3f}')\n",
        "results = sps.levene(df[df['PARAMETER_ID']=='MCTS_2_0_n_1,41']['ATK_CNT_FIRST5'], df[df['PARAMETER_ID']=='MCTS_2_0_2_1,41']['ATK_CNT_FIRST5'])\n",
        "print(f'DL, n - 2, ATK_CNT_FIRST5: {results.pvalue:.3f}')\n",
        "results = sps.levene(df[df['PARAMETER_ID']=='MCTS_2_0_2_1,41']['ATK_CNT'], df[df['PARAMETER_ID']=='MCTS_2_1_2_1,41']['ATK_CNT'])\n",
        "print(f'E_greedy, 0 - 1, ATK_CNT: {results.pvalue:.3f}')\n",
        "results = sps.levene(df[df['PARAMETER_ID']=='MCTS_2_0_2_1,41']['ATK_CNT_FIRST5'], df[df['PARAMETER_ID']=='MCTS_2_1_2_1,41']['ATK_CNT_FIRST5'])\n",
        "print(f'E_greedy, 0 - 1, ATK_CNT_FIRST5: {results.pvalue:.3f}')"
      ],
      "metadata": {
        "colab": {
          "base_uri": "https://localhost:8080/"
        },
        "id": "aztlG9hhC74L",
        "outputId": "b18c6fef-2636-4f33-c44b-8eb2aa8a3d7b"
      },
      "execution_count": 7,
      "outputs": [
        {
          "output_type": "stream",
          "name": "stdout",
          "text": [
            "rowność wariancji\n",
            "DL, n - 2, ATK_CNT: 0.000\n",
            "DL, n - 2, ATK_CNT_FIRST5: 0.002\n",
            "E_greedy, 0 - 1, ATK_CNT: 0.488\n",
            "E_greedy, 0 - 1, ATK_CNT_FIRST5: 0.658\n"
          ]
        }
      ]
    },
    {
      "cell_type": "code",
      "source": [
        "print('test zmiennych niezależnych')\n",
        "results = sps.ttest_ind(df[df['PARAMETER_ID']=='DLMC_L2_2_100_0']['ATK_CNT'], df[df['PARAMETER_ID']=='MCTS_2_0_n_1,41']['ATK_CNT'])\n",
        "print(f'DLMC - MCTS, ATK_CNT: {results.pvalue:.3f}')\n",
        "results = sps.ttest_ind(df[df['PARAMETER_ID']=='DLMC_L2_2_100_0']['ATK_CNT'], df[df['PARAMETER_ID']=='MCTS_2_0_n_1,41']['ATK_CNT_FIRST5'])\n",
        "print(f'DLMC - MCTS, ATK_CNT_FIRST5: {results.pvalue:.3f}')\n",
        "results = sps.ttest_ind(df[df['PARAMETER_ID']=='DLMC_L2_2_100_0']['MOVE_CNT'], df[df['PARAMETER_ID']=='MCTS_2_0_n_1,41']['MOVE_CNT'])\n",
        "print(f'DLMC - MCTS, MOVE_CNT: {results.pvalue:.3f}')\n",
        "results = sps.ttest_ind(df[df['PARAMETER_ID']=='DLMC_L2_2_100_0']['REM_HP'], df[df['PARAMETER_ID']=='MCTS_2_0_n_1,41']['REM_HP'])\n",
        "print(f'DLMC - MCTS, REM_HP: {results.pvalue:.3f}')"
      ],
      "metadata": {
        "colab": {
          "base_uri": "https://localhost:8080/"
        },
        "id": "6hXPunxKHI50",
        "outputId": "8d29d498-1a12-45b4-964e-c5897be69027"
      },
      "execution_count": 9,
      "outputs": [
        {
          "output_type": "stream",
          "name": "stdout",
          "text": [
            "test zmiennych niezależnych\n",
            "DLMC - MCTS, ATK_CNT: 0.000\n",
            "DLMC - MCTS, ATK_CNT_FIRST5: 0.000\n",
            "DLMC - MCTS, MOVE_CNT: 0.000\n",
            "DLMC - MCTS, REM_HP: 0.000\n"
          ]
        }
      ]
    },
    {
      "cell_type": "code",
      "source": [
        "print('test zmiennych zależnych')\n",
        "results = sps.ttest_rel(df[df['PARAMETER_ID']=='MCTS_3_0_n_0,1']['ATK_CNT'], df[df['PARAMETER_ID']=='MCTS_3_0_n_3']['ATK_CNT'])\n",
        "print(f'C, 0,1 - 3, ATK_CNT: {results.pvalue:.3f}')\n",
        "results = sps.ttest_rel(df[df['PARAMETER_ID']=='MCTS_3_0_n_0,1']['ATK_CNT_FIRST5'], df[df['PARAMETER_ID']=='MCTS_3_0_n_3']['ATK_CNT_FIRST5'])\n",
        "print(f'C, 0,1 - 3, ATK_CNT_FIRST5: {results.pvalue:.3f}')\n",
        "results = sps.ttest_rel(df[df['PARAMETER_ID']=='MCTS_2_0,25_2_1,41']['ATK_CNT'], df[df['PARAMETER_ID']=='MCTS_2_0,75_2_1,41']['ATK_CNT'])\n",
        "print(f'E_greedy, 0,25 - 0,75, ATK_CNT: {results.pvalue:.3f}')\n",
        "results = sps.ttest_rel(df[df['PARAMETER_ID']=='MCTS_2_0,25_2_1,41']['ATK_CNT_FIRST5'], df[df['PARAMETER_ID']=='MCTS_2_0,75_2_1,41']['ATK_CNT_FIRST5'])\n",
        "print(f'E_greedy, 0,25 - 0,75, ATK_CNT_FIRST5: {results.pvalue:.3f}')"
      ],
      "metadata": {
        "colab": {
          "base_uri": "https://localhost:8080/"
        },
        "id": "lrbFJJfUJ451",
        "outputId": "0b3467df-726f-47c2-8871-38c73a4e6f7e"
      },
      "execution_count": 18,
      "outputs": [
        {
          "output_type": "stream",
          "name": "stdout",
          "text": [
            "test zmiennych zależnych\n",
            "C, 0,1 - 3, ATK_CNT: 0.000\n",
            "C, 0,1 - 3, ATK_CNT_FIRST5: 0.002\n",
            "E_greedy, 0,25 - 0,75, ATK_CNT: 0.000\n",
            "E_greedy, 0,25 - 0,75, ATK_CNT_FIRST5: 0.917\n"
          ]
        }
      ]
    }
  ]
}